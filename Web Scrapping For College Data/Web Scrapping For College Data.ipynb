{
 "cells": [
  {
   "cell_type": "markdown",
   "metadata": {},
   "source": [
    "### Notebook Created by : Akhand Pratap Shahi"
   ]
  },
  {
   "cell_type": "code",
   "execution_count": 154,
   "metadata": {},
   "outputs": [],
   "source": [
    "from bs4 import BeautifulSoup\n",
    "import pandas as pd"
   ]
  },
  {
   "cell_type": "code",
   "execution_count": 155,
   "metadata": {},
   "outputs": [],
   "source": [
    "import requests"
   ]
  },
  {
   "cell_type": "code",
   "execution_count": 341,
   "metadata": {},
   "outputs": [],
   "source": [
    "header = {'User-Agent':'Mozilla/5.0 (Macintosh; Intel Mac OS X 10_14_5)AppleWebKit/605.1.15 (KHTML, like Gecko)Version/12.1.1 Safari/605.1.15'}\n",
    "html_text = requests.get('https://collegedunia.com/btech/private-colleges?page=0', headers = header).text"
   ]
  },
  {
   "cell_type": "code",
   "execution_count": 342,
   "metadata": {},
   "outputs": [],
   "source": [
    "#print(html_text)"
   ]
  },
  {
   "cell_type": "code",
   "execution_count": 343,
   "metadata": {},
   "outputs": [],
   "source": [
    "soup = BeautifulSoup(html_text, 'lxml')"
   ]
  },
  {
   "cell_type": "code",
   "execution_count": 344,
   "metadata": {},
   "outputs": [],
   "source": [
    "college = soup.find('div', class_ = 'jsx-1162254489')"
   ]
  },
  {
   "cell_type": "code",
   "execution_count": 345,
   "metadata": {},
   "outputs": [],
   "source": [
    "college_name = college.find('h3', class_ = 'jsx-18625286').text.split(',')[0]"
   ]
  },
  {
   "cell_type": "code",
   "execution_count": 346,
   "metadata": {},
   "outputs": [
    {
     "name": "stdout",
     "output_type": "stream",
     "text": [
      "BITS Pilani (Pilani Campus)\n"
     ]
    }
   ],
   "source": [
    "print(college_name)"
   ]
  },
  {
   "cell_type": "code",
   "execution_count": 347,
   "metadata": {},
   "outputs": [],
   "source": [
    "info = college.find_all('span', class_ = 'jsx-18625286 lr-key text-lg text-primary d-block font-weight-bold mb-1')"
   ]
  },
  {
   "cell_type": "code",
   "execution_count": 348,
   "metadata": {},
   "outputs": [],
   "source": [
    "rating_out_of_10 = info[2].text.split('/')[0]"
   ]
  },
  {
   "cell_type": "code",
   "execution_count": 349,
   "metadata": {},
   "outputs": [
    {
     "name": "stdout",
     "output_type": "stream",
     "text": [
      " 8.8 \n"
     ]
    }
   ],
   "source": [
    "print(rating_out_of_10)"
   ]
  },
  {
   "cell_type": "code",
   "execution_count": 350,
   "metadata": {},
   "outputs": [],
   "source": [
    "one_year_fee = info[0].text"
   ]
  },
  {
   "cell_type": "code",
   "execution_count": 351,
   "metadata": {},
   "outputs": [
    {
     "name": "stdout",
     "output_type": "stream",
     "text": [
      "₹ 541,575\n"
     ]
    }
   ],
   "source": [
    "print(one_year_fee)"
   ]
  },
  {
   "cell_type": "code",
   "execution_count": 352,
   "metadata": {},
   "outputs": [],
   "source": [
    "enterance_exam = info[1].text"
   ]
  },
  {
   "cell_type": "code",
   "execution_count": 353,
   "metadata": {},
   "outputs": [
    {
     "name": "stdout",
     "output_type": "stream",
     "text": [
      "BITSAT\n"
     ]
    }
   ],
   "source": [
    "print(enterance_exam)"
   ]
  },
  {
   "cell_type": "code",
   "execution_count": 354,
   "metadata": {},
   "outputs": [],
   "source": [
    "approved_by = college.find('span', class_ = 'jsx-18625286 approvals pl-1').text.split(\"\\xa0\")[0:-1]"
   ]
  },
  {
   "cell_type": "code",
   "execution_count": 355,
   "metadata": {},
   "outputs": [
    {
     "name": "stdout",
     "output_type": "stream",
     "text": [
      "['UGC']\n"
     ]
    }
   ],
   "source": [
    "print(approved_by)"
   ]
  },
  {
   "cell_type": "code",
   "execution_count": 356,
   "metadata": {},
   "outputs": [],
   "source": [
    "place = college.find('span', class_ = 'jsx-18625286 pr-1 location').text.replace(' ', '')"
   ]
  },
  {
   "cell_type": "code",
   "execution_count": 357,
   "metadata": {},
   "outputs": [
    {
     "name": "stdout",
     "output_type": "stream",
     "text": [
      "Pilani,Rajasthan\n"
     ]
    }
   ],
   "source": [
    "print(place)"
   ]
  },
  {
   "cell_type": "code",
   "execution_count": 358,
   "metadata": {},
   "outputs": [],
   "source": [
    "more_info = college.find('div', class_ = 'jsx-18625286 clg-head d-flex align-items-center mb-3')\n",
    "detail = more_info.find('a', class_ = 'jsx-18625286 college_name m-0 font-weight-bold text-md')"
   ]
  },
  {
   "cell_type": "code",
   "execution_count": 359,
   "metadata": {},
   "outputs": [
    {
     "name": "stdout",
     "output_type": "stream",
     "text": [
      "https://collegedunia.com/university/25800-bits-pilani-pilani-campus-pilani\n"
     ]
    }
   ],
   "source": [
    "print('{}'.format('https://collegedunia.com') + detail['href'])"
   ]
  },
  {
   "cell_type": "code",
   "execution_count": 360,
   "metadata": {},
   "outputs": [],
   "source": [
    "review_count = college.find('span', class_ = 'jsx-18625286 review-count ml-1').text.replace('Users', 'Reviews')"
   ]
  },
  {
   "cell_type": "code",
   "execution_count": 361,
   "metadata": {},
   "outputs": [
    {
     "name": "stdout",
     "output_type": "stream",
     "text": [
      "(501 Reviews)\n"
     ]
    }
   ],
   "source": [
    "print(review_count)"
   ]
  },
  {
   "cell_type": "code",
   "execution_count": 362,
   "metadata": {},
   "outputs": [],
   "source": [
    "colleges = soup.find_all('div', class_ = 'jsx-1162254489')\n",
    "\n",
    "College_Name = []\n",
    "One_Year_Fee = []\n",
    "Enterance_Exam = []\n",
    "Rating = []\n",
    "Review_Counts = []\n",
    "Approved_By = []\n",
    "Place = []\n",
    "More_Detail = []\n",
    "\n",
    "\n",
    "for college in colleges:\n",
    "    college_name = college.find('h3', class_ = 'jsx-18625286').text.split(',')[0]\n",
    "    College_Name.append(college_name)\n",
    "    \n",
    "    info = college.find_all('span', class_ = 'jsx-18625286 lr-key text-lg text-primary d-block font-weight-bold mb-1')\n",
    "    \n",
    "    \n",
    "    try:\n",
    "        one_year_fee = info[0].text\n",
    "        enterance_exam = info[1].text\n",
    "        rating_out_of_10 = info[2].text.split('/')[0]\n",
    "        approved_by = college.find('span', class_ = 'jsx-18625286 approvals pl-1').text.split(\"\\xa0\")[0:-1]\n",
    "        place = college.find('span', class_ = 'jsx-18625286 pr-1 location').text.replace(' ', '')\n",
    "        more_info = college.find('div', class_ = 'jsx-18625286 clg-head d-flex align-items-center mb-3')\n",
    "        detail = more_info.find('a', class_ = 'jsx-18625286 college_name m-0 font-weight-bold text-md')\n",
    "        detail = '{}'.format('https://collegedunia.com') + detail['href']\n",
    "        review_count = college.find('span', class_ = 'jsx-18625286 review-count ml-1').text.replace('Users', 'Reviews')\n",
    "        \n",
    "    except:\n",
    "        enterance_exam = 'JEE MAIN'\n",
    "    \n",
    "   \n",
    "    One_Year_Fee.append(one_year_fee)\n",
    "    Enterance_Exam.append(enterance_exam)\n",
    "    Rating.append(rating_out_of_10)\n",
    "    Review_Counts.append(review_count)\n",
    "    Approved_By.append(approved_by)\n",
    "    Place.append(place)\n",
    "    More_Detail.append(detail)\n",
    "\n",
    "    \n",
    "\n",
    "    #print(f'''\n",
    "    #College_Name: {college_name}\n",
    "    #One_year_Fee: {one_year_fee}\n",
    "    #Enterance_Exam: {enterance_exam}\n",
    "    #Rating: {rating_out_of_10}\n",
    "    #Review_counts :{review_count}\n",
    "    #Approved_By: {approved_by}\n",
    "    #Place: {place}\n",
    "    #detail: {detail}\n",
    "    #''')\n",
    "\n",
    "    \n",
    "data = {'College_Name': College_Name, 'One_Year_Fee': One_Year_Fee, 'Enterance_Exam': Enterance_Exam,\n",
    "        'Rating': Rating, 'Review_Counts': Review_Counts, 'Approved_By': Approved_By, 'Place': Place,\n",
    "        'More_Details': More_Detail}\n",
    "\n",
    "college_data = pd.DataFrame(data)\n"
   ]
  },
  {
   "cell_type": "code",
   "execution_count": 363,
   "metadata": {},
   "outputs": [
    {
     "data": {
      "text/plain": [
       "(33, 8)"
      ]
     },
     "execution_count": 363,
     "metadata": {},
     "output_type": "execute_result"
    }
   ],
   "source": [
    "college_data.shape"
   ]
  },
  {
   "cell_type": "code",
   "execution_count": 368,
   "metadata": {},
   "outputs": [
    {
     "name": "stderr",
     "output_type": "stream",
     "text": [
      "<ipython-input-368-293b11f317f4>:74: FutureWarning: The frame.append method is deprecated and will be removed from pandas in a future version. Use pandas.concat instead.\n",
      "  final = final.append(college_data, ignore_index = True)\n",
      "<ipython-input-368-293b11f317f4>:74: FutureWarning: The frame.append method is deprecated and will be removed from pandas in a future version. Use pandas.concat instead.\n",
      "  final = final.append(college_data, ignore_index = True)\n",
      "<ipython-input-368-293b11f317f4>:74: FutureWarning: The frame.append method is deprecated and will be removed from pandas in a future version. Use pandas.concat instead.\n",
      "  final = final.append(college_data, ignore_index = True)\n",
      "<ipython-input-368-293b11f317f4>:74: FutureWarning: The frame.append method is deprecated and will be removed from pandas in a future version. Use pandas.concat instead.\n",
      "  final = final.append(college_data, ignore_index = True)\n",
      "<ipython-input-368-293b11f317f4>:74: FutureWarning: The frame.append method is deprecated and will be removed from pandas in a future version. Use pandas.concat instead.\n",
      "  final = final.append(college_data, ignore_index = True)\n",
      "<ipython-input-368-293b11f317f4>:74: FutureWarning: The frame.append method is deprecated and will be removed from pandas in a future version. Use pandas.concat instead.\n",
      "  final = final.append(college_data, ignore_index = True)\n",
      "<ipython-input-368-293b11f317f4>:74: FutureWarning: The frame.append method is deprecated and will be removed from pandas in a future version. Use pandas.concat instead.\n",
      "  final = final.append(college_data, ignore_index = True)\n",
      "<ipython-input-368-293b11f317f4>:74: FutureWarning: The frame.append method is deprecated and will be removed from pandas in a future version. Use pandas.concat instead.\n",
      "  final = final.append(college_data, ignore_index = True)\n",
      "<ipython-input-368-293b11f317f4>:74: FutureWarning: The frame.append method is deprecated and will be removed from pandas in a future version. Use pandas.concat instead.\n",
      "  final = final.append(college_data, ignore_index = True)\n",
      "<ipython-input-368-293b11f317f4>:74: FutureWarning: The frame.append method is deprecated and will be removed from pandas in a future version. Use pandas.concat instead.\n",
      "  final = final.append(college_data, ignore_index = True)\n",
      "<ipython-input-368-293b11f317f4>:74: FutureWarning: The frame.append method is deprecated and will be removed from pandas in a future version. Use pandas.concat instead.\n",
      "  final = final.append(college_data, ignore_index = True)\n",
      "<ipython-input-368-293b11f317f4>:74: FutureWarning: The frame.append method is deprecated and will be removed from pandas in a future version. Use pandas.concat instead.\n",
      "  final = final.append(college_data, ignore_index = True)\n",
      "<ipython-input-368-293b11f317f4>:74: FutureWarning: The frame.append method is deprecated and will be removed from pandas in a future version. Use pandas.concat instead.\n",
      "  final = final.append(college_data, ignore_index = True)\n",
      "<ipython-input-368-293b11f317f4>:74: FutureWarning: The frame.append method is deprecated and will be removed from pandas in a future version. Use pandas.concat instead.\n",
      "  final = final.append(college_data, ignore_index = True)\n",
      "<ipython-input-368-293b11f317f4>:74: FutureWarning: The frame.append method is deprecated and will be removed from pandas in a future version. Use pandas.concat instead.\n",
      "  final = final.append(college_data, ignore_index = True)\n",
      "<ipython-input-368-293b11f317f4>:74: FutureWarning: The frame.append method is deprecated and will be removed from pandas in a future version. Use pandas.concat instead.\n",
      "  final = final.append(college_data, ignore_index = True)\n",
      "<ipython-input-368-293b11f317f4>:74: FutureWarning: The frame.append method is deprecated and will be removed from pandas in a future version. Use pandas.concat instead.\n",
      "  final = final.append(college_data, ignore_index = True)\n",
      "<ipython-input-368-293b11f317f4>:74: FutureWarning: The frame.append method is deprecated and will be removed from pandas in a future version. Use pandas.concat instead.\n",
      "  final = final.append(college_data, ignore_index = True)\n",
      "<ipython-input-368-293b11f317f4>:74: FutureWarning: The frame.append method is deprecated and will be removed from pandas in a future version. Use pandas.concat instead.\n",
      "  final = final.append(college_data, ignore_index = True)\n",
      "<ipython-input-368-293b11f317f4>:74: FutureWarning: The frame.append method is deprecated and will be removed from pandas in a future version. Use pandas.concat instead.\n",
      "  final = final.append(college_data, ignore_index = True)\n",
      "<ipython-input-368-293b11f317f4>:74: FutureWarning: The frame.append method is deprecated and will be removed from pandas in a future version. Use pandas.concat instead.\n",
      "  final = final.append(college_data, ignore_index = True)\n",
      "<ipython-input-368-293b11f317f4>:74: FutureWarning: The frame.append method is deprecated and will be removed from pandas in a future version. Use pandas.concat instead.\n",
      "  final = final.append(college_data, ignore_index = True)\n",
      "<ipython-input-368-293b11f317f4>:74: FutureWarning: The frame.append method is deprecated and will be removed from pandas in a future version. Use pandas.concat instead.\n",
      "  final = final.append(college_data, ignore_index = True)\n",
      "<ipython-input-368-293b11f317f4>:74: FutureWarning: The frame.append method is deprecated and will be removed from pandas in a future version. Use pandas.concat instead.\n",
      "  final = final.append(college_data, ignore_index = True)\n",
      "<ipython-input-368-293b11f317f4>:74: FutureWarning: The frame.append method is deprecated and will be removed from pandas in a future version. Use pandas.concat instead.\n",
      "  final = final.append(college_data, ignore_index = True)\n",
      "<ipython-input-368-293b11f317f4>:74: FutureWarning: The frame.append method is deprecated and will be removed from pandas in a future version. Use pandas.concat instead.\n",
      "  final = final.append(college_data, ignore_index = True)\n",
      "<ipython-input-368-293b11f317f4>:74: FutureWarning: The frame.append method is deprecated and will be removed from pandas in a future version. Use pandas.concat instead.\n",
      "  final = final.append(college_data, ignore_index = True)\n",
      "<ipython-input-368-293b11f317f4>:74: FutureWarning: The frame.append method is deprecated and will be removed from pandas in a future version. Use pandas.concat instead.\n",
      "  final = final.append(college_data, ignore_index = True)\n",
      "<ipython-input-368-293b11f317f4>:74: FutureWarning: The frame.append method is deprecated and will be removed from pandas in a future version. Use pandas.concat instead.\n",
      "  final = final.append(college_data, ignore_index = True)\n",
      "<ipython-input-368-293b11f317f4>:74: FutureWarning: The frame.append method is deprecated and will be removed from pandas in a future version. Use pandas.concat instead.\n",
      "  final = final.append(college_data, ignore_index = True)\n",
      "<ipython-input-368-293b11f317f4>:74: FutureWarning: The frame.append method is deprecated and will be removed from pandas in a future version. Use pandas.concat instead.\n",
      "  final = final.append(college_data, ignore_index = True)\n",
      "<ipython-input-368-293b11f317f4>:74: FutureWarning: The frame.append method is deprecated and will be removed from pandas in a future version. Use pandas.concat instead.\n",
      "  final = final.append(college_data, ignore_index = True)\n",
      "<ipython-input-368-293b11f317f4>:74: FutureWarning: The frame.append method is deprecated and will be removed from pandas in a future version. Use pandas.concat instead.\n",
      "  final = final.append(college_data, ignore_index = True)\n",
      "<ipython-input-368-293b11f317f4>:74: FutureWarning: The frame.append method is deprecated and will be removed from pandas in a future version. Use pandas.concat instead.\n",
      "  final = final.append(college_data, ignore_index = True)\n",
      "<ipython-input-368-293b11f317f4>:74: FutureWarning: The frame.append method is deprecated and will be removed from pandas in a future version. Use pandas.concat instead.\n",
      "  final = final.append(college_data, ignore_index = True)\n",
      "<ipython-input-368-293b11f317f4>:74: FutureWarning: The frame.append method is deprecated and will be removed from pandas in a future version. Use pandas.concat instead.\n",
      "  final = final.append(college_data, ignore_index = True)\n"
     ]
    },
    {
     "name": "stderr",
     "output_type": "stream",
     "text": [
      "<ipython-input-368-293b11f317f4>:74: FutureWarning: The frame.append method is deprecated and will be removed from pandas in a future version. Use pandas.concat instead.\n",
      "  final = final.append(college_data, ignore_index = True)\n",
      "<ipython-input-368-293b11f317f4>:74: FutureWarning: The frame.append method is deprecated and will be removed from pandas in a future version. Use pandas.concat instead.\n",
      "  final = final.append(college_data, ignore_index = True)\n",
      "<ipython-input-368-293b11f317f4>:74: FutureWarning: The frame.append method is deprecated and will be removed from pandas in a future version. Use pandas.concat instead.\n",
      "  final = final.append(college_data, ignore_index = True)\n",
      "<ipython-input-368-293b11f317f4>:74: FutureWarning: The frame.append method is deprecated and will be removed from pandas in a future version. Use pandas.concat instead.\n",
      "  final = final.append(college_data, ignore_index = True)\n",
      "<ipython-input-368-293b11f317f4>:74: FutureWarning: The frame.append method is deprecated and will be removed from pandas in a future version. Use pandas.concat instead.\n",
      "  final = final.append(college_data, ignore_index = True)\n",
      "<ipython-input-368-293b11f317f4>:74: FutureWarning: The frame.append method is deprecated and will be removed from pandas in a future version. Use pandas.concat instead.\n",
      "  final = final.append(college_data, ignore_index = True)\n",
      "<ipython-input-368-293b11f317f4>:74: FutureWarning: The frame.append method is deprecated and will be removed from pandas in a future version. Use pandas.concat instead.\n",
      "  final = final.append(college_data, ignore_index = True)\n",
      "<ipython-input-368-293b11f317f4>:74: FutureWarning: The frame.append method is deprecated and will be removed from pandas in a future version. Use pandas.concat instead.\n",
      "  final = final.append(college_data, ignore_index = True)\n",
      "<ipython-input-368-293b11f317f4>:74: FutureWarning: The frame.append method is deprecated and will be removed from pandas in a future version. Use pandas.concat instead.\n",
      "  final = final.append(college_data, ignore_index = True)\n",
      "<ipython-input-368-293b11f317f4>:74: FutureWarning: The frame.append method is deprecated and will be removed from pandas in a future version. Use pandas.concat instead.\n",
      "  final = final.append(college_data, ignore_index = True)\n",
      "<ipython-input-368-293b11f317f4>:74: FutureWarning: The frame.append method is deprecated and will be removed from pandas in a future version. Use pandas.concat instead.\n",
      "  final = final.append(college_data, ignore_index = True)\n",
      "<ipython-input-368-293b11f317f4>:74: FutureWarning: The frame.append method is deprecated and will be removed from pandas in a future version. Use pandas.concat instead.\n",
      "  final = final.append(college_data, ignore_index = True)\n",
      "<ipython-input-368-293b11f317f4>:74: FutureWarning: The frame.append method is deprecated and will be removed from pandas in a future version. Use pandas.concat instead.\n",
      "  final = final.append(college_data, ignore_index = True)\n",
      "<ipython-input-368-293b11f317f4>:74: FutureWarning: The frame.append method is deprecated and will be removed from pandas in a future version. Use pandas.concat instead.\n",
      "  final = final.append(college_data, ignore_index = True)\n",
      "<ipython-input-368-293b11f317f4>:74: FutureWarning: The frame.append method is deprecated and will be removed from pandas in a future version. Use pandas.concat instead.\n",
      "  final = final.append(college_data, ignore_index = True)\n"
     ]
    }
   ],
   "source": [
    "final = pd.DataFrame()\n",
    "\n",
    "for j in range(0,51):\n",
    "    \n",
    "    url = 'https://collegedunia.com/btech/private-colleges?page={}'.format(j)\n",
    "    header = {'User-Agent':'Mozilla/5.0 (Macintosh; Intel Mac OS X 10_14_5)AppleWebKit/605.1.15 (KHTML, like Gecko)Version/12.1.1 Safari/605.1.15'}\n",
    "    \n",
    "    html_text = requests.get(url, headers = header).text\n",
    "    \n",
    "    soup = BeautifulSoup(html_text, 'lxml')\n",
    "    \n",
    "    colleges = soup.find_all('div', class_ = 'jsx-1162254489')\n",
    "\n",
    "    College_Name = []\n",
    "    One_Year_Fee = []\n",
    "    Enterance_Exam = []\n",
    "    Rating = []\n",
    "    Review_Counts = []\n",
    "    Approved_By = []\n",
    "    Place = []\n",
    "    More_Detail = []\n",
    "\n",
    "\n",
    "    for college in colleges:\n",
    "        college_name = college.find('h3', class_ = 'jsx-18625286').text.split(',')[0]\n",
    "        College_Name.append(college_name)\n",
    "        \n",
    "        info = college.find_all('span', class_ = 'jsx-18625286 lr-key text-lg text-primary d-block font-weight-bold mb-1')\n",
    "    \n",
    "    \n",
    "        try:\n",
    "            one_year_fee = info[0].text\n",
    "            enterance_exam = info[1].text\n",
    "            rating_out_of_10 = info[2].text.split('/')[0]\n",
    "            approved_by = college.find('span', class_ = 'jsx-18625286 approvals pl-1').text.split(\"\\xa0\")[0:-1]\n",
    "            place = college.find('span', class_ = 'jsx-18625286 pr-1 location').text.replace(' ', '')\n",
    "            more_info = college.find('div', class_ = 'jsx-18625286 clg-head d-flex align-items-center mb-3')\n",
    "            detail = more_info.find('a', class_ = 'jsx-18625286 college_name m-0 font-weight-bold text-md')\n",
    "            detail = '{}'.format('https://collegedunia.com') + detail['href']\n",
    "            review_count = college.find('span', class_ = 'jsx-18625286 review-count ml-1').text.replace('Users', 'Reviews')\n",
    "        \n",
    "        except:\n",
    "            enterance_exam = 'JEE MAIN'\n",
    "    \n",
    "   \n",
    "        One_Year_Fee.append(one_year_fee)\n",
    "        Enterance_Exam.append(enterance_exam)\n",
    "        Rating.append(rating_out_of_10)\n",
    "        Review_Counts.append(review_count)\n",
    "        Approved_By.append(approved_by)\n",
    "        Place.append(place)\n",
    "        More_Detail.append(detail)\n",
    "\n",
    "    \n",
    "    \n",
    "        #print(f'''\n",
    "        #College_Name: {college_name}\n",
    "        #One_year_Fee: {one_year_fee}\n",
    "        #Enterance_Exam: {enterance_exam}\n",
    "        #Rating: {rating_out_of_10}\n",
    "        #Review_counts :{review_count}\n",
    "        #Approved_By: {approved_by}\n",
    "        #Place: {place}\n",
    "        #detail: {detail}\n",
    "        #''')\n",
    "    \n",
    "    \n",
    "    data = {'College_Name': College_Name, 'One_Year_Fee': One_Year_Fee, 'Enterance_Exam': Enterance_Exam,\n",
    "            'Rating': Rating, 'Review_Counts': Review_Counts, 'Approved_By': Approved_By, 'Place': Place,\n",
    "            'More_Details': More_Detail}\n",
    "\n",
    "    college_data = pd.DataFrame(data)\n",
    "    \n",
    "    final = final.append(college_data, ignore_index = True)\n"
   ]
  },
  {
   "cell_type": "code",
   "execution_count": 374,
   "metadata": {},
   "outputs": [
    {
     "data": {
      "text/plain": [
       "(532, 8)"
      ]
     },
     "execution_count": 374,
     "metadata": {},
     "output_type": "execute_result"
    }
   ],
   "source": [
    "final.shape"
   ]
  },
  {
   "cell_type": "code",
   "execution_count": 376,
   "metadata": {},
   "outputs": [
    {
     "data": {
      "text/html": [
       "<div>\n",
       "<style scoped>\n",
       "    .dataframe tbody tr th:only-of-type {\n",
       "        vertical-align: middle;\n",
       "    }\n",
       "\n",
       "    .dataframe tbody tr th {\n",
       "        vertical-align: top;\n",
       "    }\n",
       "\n",
       "    .dataframe thead th {\n",
       "        text-align: right;\n",
       "    }\n",
       "</style>\n",
       "<table border=\"1\" class=\"dataframe\">\n",
       "  <thead>\n",
       "    <tr style=\"text-align: right;\">\n",
       "      <th></th>\n",
       "      <th>College_Name</th>\n",
       "      <th>One_Year_Fee</th>\n",
       "      <th>Enterance_Exam</th>\n",
       "      <th>Rating</th>\n",
       "      <th>Review_Counts</th>\n",
       "      <th>Approved_By</th>\n",
       "      <th>Place</th>\n",
       "      <th>More_Details</th>\n",
       "    </tr>\n",
       "  </thead>\n",
       "  <tbody>\n",
       "    <tr>\n",
       "      <th>0</th>\n",
       "      <td>BITS Pilani (Pilani Campus)</td>\n",
       "      <td>₹ 541,575</td>\n",
       "      <td>BITSAT</td>\n",
       "      <td>8.8</td>\n",
       "      <td>(501 Reviews)</td>\n",
       "      <td>[UGC]</td>\n",
       "      <td>Pilani,Rajasthan</td>\n",
       "      <td>https://collegedunia.com/university/25800-bits...</td>\n",
       "    </tr>\n",
       "    <tr>\n",
       "      <th>1</th>\n",
       "      <td>Institute of Chemical Technology - [ICT]</td>\n",
       "      <td>₹ 89,100</td>\n",
       "      <td>JEE MAIN</td>\n",
       "      <td>8.7</td>\n",
       "      <td>(45 Reviews)</td>\n",
       "      <td>[UGC, NBA, MHRD]</td>\n",
       "      <td>Mumbai,Maharashtra</td>\n",
       "      <td>https://collegedunia.com/university/25705-inst...</td>\n",
       "    </tr>\n",
       "    <tr>\n",
       "      <th>2</th>\n",
       "      <td>Woxsen University</td>\n",
       "      <td>₹ 372,500</td>\n",
       "      <td>VITEEE</td>\n",
       "      <td>8.2</td>\n",
       "      <td>(138 Reviews)</td>\n",
       "      <td>[AICTE, COA, NBA, AACSB, AMBA]</td>\n",
       "      <td>Hyderabad,Telangana</td>\n",
       "      <td>https://collegedunia.com/university/60661-woxs...</td>\n",
       "    </tr>\n",
       "    <tr>\n",
       "      <th>3</th>\n",
       "      <td>Vellore Institute of Technology - [VIT Univers...</td>\n",
       "      <td>₹ 198,000</td>\n",
       "      <td>VITEEE</td>\n",
       "      <td>8.4</td>\n",
       "      <td>(1660 Reviews)</td>\n",
       "      <td>[AICTE, UGC]</td>\n",
       "      <td>Vellore,TamilNadu</td>\n",
       "      <td>https://collegedunia.com/university/25914-vell...</td>\n",
       "    </tr>\n",
       "    <tr>\n",
       "      <th>4</th>\n",
       "      <td>East Point Group of Institutions - [EPGI]</td>\n",
       "      <td>₹ 250,000</td>\n",
       "      <td>COMEDK UGET</td>\n",
       "      <td>7.2</td>\n",
       "      <td>(93 Reviews)</td>\n",
       "      <td>[AICTE, NBA]</td>\n",
       "      <td>Bangalore,Karnataka</td>\n",
       "      <td>https://collegedunia.com/college/13428-east-po...</td>\n",
       "    </tr>\n",
       "  </tbody>\n",
       "</table>\n",
       "</div>"
      ],
      "text/plain": [
       "                                        College_Name One_Year_Fee  \\\n",
       "0                        BITS Pilani (Pilani Campus)    ₹ 541,575   \n",
       "1           Institute of Chemical Technology - [ICT]     ₹ 89,100   \n",
       "2                                  Woxsen University    ₹ 372,500   \n",
       "3  Vellore Institute of Technology - [VIT Univers...    ₹ 198,000   \n",
       "4          East Point Group of Institutions - [EPGI]    ₹ 250,000   \n",
       "\n",
       "  Enterance_Exam Rating   Review_Counts                     Approved_By  \\\n",
       "0         BITSAT   8.8    (501 Reviews)                           [UGC]   \n",
       "1       JEE MAIN   8.7     (45 Reviews)                [UGC, NBA, MHRD]   \n",
       "2         VITEEE   8.2    (138 Reviews)  [AICTE, COA, NBA, AACSB, AMBA]   \n",
       "3         VITEEE   8.4   (1660 Reviews)                    [AICTE, UGC]   \n",
       "4    COMEDK UGET   7.2     (93 Reviews)                    [AICTE, NBA]   \n",
       "\n",
       "                 Place                                       More_Details  \n",
       "0     Pilani,Rajasthan  https://collegedunia.com/university/25800-bits...  \n",
       "1   Mumbai,Maharashtra  https://collegedunia.com/university/25705-inst...  \n",
       "2  Hyderabad,Telangana  https://collegedunia.com/university/60661-woxs...  \n",
       "3    Vellore,TamilNadu  https://collegedunia.com/university/25914-vell...  \n",
       "4  Bangalore,Karnataka  https://collegedunia.com/college/13428-east-po...  "
      ]
     },
     "execution_count": 376,
     "metadata": {},
     "output_type": "execute_result"
    }
   ],
   "source": [
    "final.head()"
   ]
  },
  {
   "cell_type": "code",
   "execution_count": 375,
   "metadata": {},
   "outputs": [],
   "source": [
    "final.to_csv('college_data.csv')"
   ]
  },
  {
   "cell_type": "code",
   "execution_count": 377,
   "metadata": {},
   "outputs": [],
   "source": [
    "df = pd.read_csv('college_data.csv')"
   ]
  },
  {
   "cell_type": "code",
   "execution_count": 378,
   "metadata": {},
   "outputs": [
    {
     "data": {
      "text/html": [
       "<div>\n",
       "<style scoped>\n",
       "    .dataframe tbody tr th:only-of-type {\n",
       "        vertical-align: middle;\n",
       "    }\n",
       "\n",
       "    .dataframe tbody tr th {\n",
       "        vertical-align: top;\n",
       "    }\n",
       "\n",
       "    .dataframe thead th {\n",
       "        text-align: right;\n",
       "    }\n",
       "</style>\n",
       "<table border=\"1\" class=\"dataframe\">\n",
       "  <thead>\n",
       "    <tr style=\"text-align: right;\">\n",
       "      <th></th>\n",
       "      <th>Unnamed: 0</th>\n",
       "      <th>College_Name</th>\n",
       "      <th>One_Year_Fee</th>\n",
       "      <th>Enterance_Exam</th>\n",
       "      <th>Rating</th>\n",
       "      <th>Review_Counts</th>\n",
       "      <th>Approved_By</th>\n",
       "      <th>Place</th>\n",
       "      <th>More_Details</th>\n",
       "    </tr>\n",
       "  </thead>\n",
       "  <tbody>\n",
       "    <tr>\n",
       "      <th>0</th>\n",
       "      <td>0</td>\n",
       "      <td>BITS Pilani (Pilani Campus)</td>\n",
       "      <td>₹ 541,575</td>\n",
       "      <td>BITSAT</td>\n",
       "      <td>8.8</td>\n",
       "      <td>(501 Reviews)</td>\n",
       "      <td>['UGC']</td>\n",
       "      <td>Pilani,Rajasthan</td>\n",
       "      <td>https://collegedunia.com/university/25800-bits...</td>\n",
       "    </tr>\n",
       "    <tr>\n",
       "      <th>1</th>\n",
       "      <td>1</td>\n",
       "      <td>Institute of Chemical Technology - [ICT]</td>\n",
       "      <td>₹ 89,100</td>\n",
       "      <td>JEE MAIN</td>\n",
       "      <td>8.7</td>\n",
       "      <td>(45 Reviews)</td>\n",
       "      <td>['UGC, NBA, MHRD']</td>\n",
       "      <td>Mumbai,Maharashtra</td>\n",
       "      <td>https://collegedunia.com/university/25705-inst...</td>\n",
       "    </tr>\n",
       "    <tr>\n",
       "      <th>2</th>\n",
       "      <td>2</td>\n",
       "      <td>Woxsen University</td>\n",
       "      <td>₹ 372,500</td>\n",
       "      <td>VITEEE</td>\n",
       "      <td>8.2</td>\n",
       "      <td>(138 Reviews)</td>\n",
       "      <td>['AICTE, COA, NBA, AACSB, AMBA']</td>\n",
       "      <td>Hyderabad,Telangana</td>\n",
       "      <td>https://collegedunia.com/university/60661-woxs...</td>\n",
       "    </tr>\n",
       "    <tr>\n",
       "      <th>3</th>\n",
       "      <td>3</td>\n",
       "      <td>Vellore Institute of Technology - [VIT Univers...</td>\n",
       "      <td>₹ 198,000</td>\n",
       "      <td>VITEEE</td>\n",
       "      <td>8.4</td>\n",
       "      <td>(1660 Reviews)</td>\n",
       "      <td>['AICTE, UGC']</td>\n",
       "      <td>Vellore,TamilNadu</td>\n",
       "      <td>https://collegedunia.com/university/25914-vell...</td>\n",
       "    </tr>\n",
       "    <tr>\n",
       "      <th>4</th>\n",
       "      <td>4</td>\n",
       "      <td>East Point Group of Institutions - [EPGI]</td>\n",
       "      <td>₹ 250,000</td>\n",
       "      <td>COMEDK UGET</td>\n",
       "      <td>7.2</td>\n",
       "      <td>(93 Reviews)</td>\n",
       "      <td>['AICTE, NBA']</td>\n",
       "      <td>Bangalore,Karnataka</td>\n",
       "      <td>https://collegedunia.com/college/13428-east-po...</td>\n",
       "    </tr>\n",
       "  </tbody>\n",
       "</table>\n",
       "</div>"
      ],
      "text/plain": [
       "   Unnamed: 0                                       College_Name One_Year_Fee  \\\n",
       "0           0                        BITS Pilani (Pilani Campus)    ₹ 541,575   \n",
       "1           1           Institute of Chemical Technology - [ICT]     ₹ 89,100   \n",
       "2           2                                  Woxsen University    ₹ 372,500   \n",
       "3           3  Vellore Institute of Technology - [VIT Univers...    ₹ 198,000   \n",
       "4           4          East Point Group of Institutions - [EPGI]    ₹ 250,000   \n",
       "\n",
       "  Enterance_Exam  Rating   Review_Counts                       Approved_By  \\\n",
       "0         BITSAT     8.8   (501 Reviews)                           ['UGC']   \n",
       "1       JEE MAIN     8.7    (45 Reviews)                ['UGC, NBA, MHRD']   \n",
       "2         VITEEE     8.2   (138 Reviews)  ['AICTE, COA, NBA, AACSB, AMBA']   \n",
       "3         VITEEE     8.4  (1660 Reviews)                    ['AICTE, UGC']   \n",
       "4    COMEDK UGET     7.2    (93 Reviews)                    ['AICTE, NBA']   \n",
       "\n",
       "                 Place                                       More_Details  \n",
       "0     Pilani,Rajasthan  https://collegedunia.com/university/25800-bits...  \n",
       "1   Mumbai,Maharashtra  https://collegedunia.com/university/25705-inst...  \n",
       "2  Hyderabad,Telangana  https://collegedunia.com/university/60661-woxs...  \n",
       "3    Vellore,TamilNadu  https://collegedunia.com/university/25914-vell...  \n",
       "4  Bangalore,Karnataka  https://collegedunia.com/college/13428-east-po...  "
      ]
     },
     "execution_count": 378,
     "metadata": {},
     "output_type": "execute_result"
    }
   ],
   "source": [
    "df.head()"
   ]
  },
  {
   "cell_type": "code",
   "execution_count": 380,
   "metadata": {},
   "outputs": [
    {
     "data": {
      "text/plain": [
       "0"
      ]
     },
     "execution_count": 380,
     "metadata": {},
     "output_type": "execute_result"
    }
   ],
   "source": [
    "df.duplicated().sum()"
   ]
  },
  {
   "cell_type": "code",
   "execution_count": 382,
   "metadata": {},
   "outputs": [
    {
     "data": {
      "text/plain": [
       "Index(['Unnamed: 0', 'College_Name', 'One_Year_Fee', 'Enterance_Exam',\n",
       "       'Rating', 'Review_Counts', 'Approved_By', 'Place', 'More_Details'],\n",
       "      dtype='object')"
      ]
     },
     "execution_count": 382,
     "metadata": {},
     "output_type": "execute_result"
    }
   ],
   "source": [
    "df.columns"
   ]
  },
  {
   "cell_type": "code",
   "execution_count": 383,
   "metadata": {},
   "outputs": [],
   "source": [
    "df.drop('Unnamed: 0', axis = 1, inplace = True)"
   ]
  },
  {
   "cell_type": "code",
   "execution_count": 384,
   "metadata": {},
   "outputs": [
    {
     "data": {
      "text/html": [
       "<div>\n",
       "<style scoped>\n",
       "    .dataframe tbody tr th:only-of-type {\n",
       "        vertical-align: middle;\n",
       "    }\n",
       "\n",
       "    .dataframe tbody tr th {\n",
       "        vertical-align: top;\n",
       "    }\n",
       "\n",
       "    .dataframe thead th {\n",
       "        text-align: right;\n",
       "    }\n",
       "</style>\n",
       "<table border=\"1\" class=\"dataframe\">\n",
       "  <thead>\n",
       "    <tr style=\"text-align: right;\">\n",
       "      <th></th>\n",
       "      <th>College_Name</th>\n",
       "      <th>One_Year_Fee</th>\n",
       "      <th>Enterance_Exam</th>\n",
       "      <th>Rating</th>\n",
       "      <th>Review_Counts</th>\n",
       "      <th>Approved_By</th>\n",
       "      <th>Place</th>\n",
       "      <th>More_Details</th>\n",
       "    </tr>\n",
       "  </thead>\n",
       "  <tbody>\n",
       "    <tr>\n",
       "      <th>0</th>\n",
       "      <td>BITS Pilani (Pilani Campus)</td>\n",
       "      <td>₹ 541,575</td>\n",
       "      <td>BITSAT</td>\n",
       "      <td>8.8</td>\n",
       "      <td>(501 Reviews)</td>\n",
       "      <td>['UGC']</td>\n",
       "      <td>Pilani,Rajasthan</td>\n",
       "      <td>https://collegedunia.com/university/25800-bits...</td>\n",
       "    </tr>\n",
       "    <tr>\n",
       "      <th>1</th>\n",
       "      <td>Institute of Chemical Technology - [ICT]</td>\n",
       "      <td>₹ 89,100</td>\n",
       "      <td>JEE MAIN</td>\n",
       "      <td>8.7</td>\n",
       "      <td>(45 Reviews)</td>\n",
       "      <td>['UGC, NBA, MHRD']</td>\n",
       "      <td>Mumbai,Maharashtra</td>\n",
       "      <td>https://collegedunia.com/university/25705-inst...</td>\n",
       "    </tr>\n",
       "    <tr>\n",
       "      <th>2</th>\n",
       "      <td>Woxsen University</td>\n",
       "      <td>₹ 372,500</td>\n",
       "      <td>VITEEE</td>\n",
       "      <td>8.2</td>\n",
       "      <td>(138 Reviews)</td>\n",
       "      <td>['AICTE, COA, NBA, AACSB, AMBA']</td>\n",
       "      <td>Hyderabad,Telangana</td>\n",
       "      <td>https://collegedunia.com/university/60661-woxs...</td>\n",
       "    </tr>\n",
       "    <tr>\n",
       "      <th>3</th>\n",
       "      <td>Vellore Institute of Technology - [VIT Univers...</td>\n",
       "      <td>₹ 198,000</td>\n",
       "      <td>VITEEE</td>\n",
       "      <td>8.4</td>\n",
       "      <td>(1660 Reviews)</td>\n",
       "      <td>['AICTE, UGC']</td>\n",
       "      <td>Vellore,TamilNadu</td>\n",
       "      <td>https://collegedunia.com/university/25914-vell...</td>\n",
       "    </tr>\n",
       "    <tr>\n",
       "      <th>4</th>\n",
       "      <td>East Point Group of Institutions - [EPGI]</td>\n",
       "      <td>₹ 250,000</td>\n",
       "      <td>COMEDK UGET</td>\n",
       "      <td>7.2</td>\n",
       "      <td>(93 Reviews)</td>\n",
       "      <td>['AICTE, NBA']</td>\n",
       "      <td>Bangalore,Karnataka</td>\n",
       "      <td>https://collegedunia.com/college/13428-east-po...</td>\n",
       "    </tr>\n",
       "  </tbody>\n",
       "</table>\n",
       "</div>"
      ],
      "text/plain": [
       "                                        College_Name One_Year_Fee  \\\n",
       "0                        BITS Pilani (Pilani Campus)    ₹ 541,575   \n",
       "1           Institute of Chemical Technology - [ICT]     ₹ 89,100   \n",
       "2                                  Woxsen University    ₹ 372,500   \n",
       "3  Vellore Institute of Technology - [VIT Univers...    ₹ 198,000   \n",
       "4          East Point Group of Institutions - [EPGI]    ₹ 250,000   \n",
       "\n",
       "  Enterance_Exam  Rating   Review_Counts                       Approved_By  \\\n",
       "0         BITSAT     8.8   (501 Reviews)                           ['UGC']   \n",
       "1       JEE MAIN     8.7    (45 Reviews)                ['UGC, NBA, MHRD']   \n",
       "2         VITEEE     8.2   (138 Reviews)  ['AICTE, COA, NBA, AACSB, AMBA']   \n",
       "3         VITEEE     8.4  (1660 Reviews)                    ['AICTE, UGC']   \n",
       "4    COMEDK UGET     7.2    (93 Reviews)                    ['AICTE, NBA']   \n",
       "\n",
       "                 Place                                       More_Details  \n",
       "0     Pilani,Rajasthan  https://collegedunia.com/university/25800-bits...  \n",
       "1   Mumbai,Maharashtra  https://collegedunia.com/university/25705-inst...  \n",
       "2  Hyderabad,Telangana  https://collegedunia.com/university/60661-woxs...  \n",
       "3    Vellore,TamilNadu  https://collegedunia.com/university/25914-vell...  \n",
       "4  Bangalore,Karnataka  https://collegedunia.com/college/13428-east-po...  "
      ]
     },
     "execution_count": 384,
     "metadata": {},
     "output_type": "execute_result"
    }
   ],
   "source": [
    "df.head()"
   ]
  },
  {
   "cell_type": "code",
   "execution_count": null,
   "metadata": {},
   "outputs": [],
   "source": []
  },
  {
   "cell_type": "code",
   "execution_count": null,
   "metadata": {},
   "outputs": [],
   "source": []
  },
  {
   "cell_type": "code",
   "execution_count": null,
   "metadata": {},
   "outputs": [],
   "source": []
  },
  {
   "cell_type": "code",
   "execution_count": null,
   "metadata": {},
   "outputs": [],
   "source": []
  },
  {
   "cell_type": "code",
   "execution_count": null,
   "metadata": {},
   "outputs": [],
   "source": []
  },
  {
   "cell_type": "markdown",
   "metadata": {},
   "source": [
    "### Notebook Created by : Akhand Pratap Shahi"
   ]
  }
 ],
 "metadata": {
  "kernelspec": {
   "display_name": "Python 3",
   "language": "python",
   "name": "python3"
  },
  "language_info": {
   "codemirror_mode": {
    "name": "ipython",
    "version": 3
   },
   "file_extension": ".py",
   "mimetype": "text/x-python",
   "name": "python",
   "nbconvert_exporter": "python",
   "pygments_lexer": "ipython3",
   "version": "3.8.5"
  }
 },
 "nbformat": 4,
 "nbformat_minor": 4
}
